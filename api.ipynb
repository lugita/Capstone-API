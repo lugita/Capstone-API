{
 "cells": [
  {
   "cell_type": "code",
   "execution_count": 2,
   "metadata": {},
   "outputs": [],
   "source": [
    "import pandas as pd\n",
    "import numpy as np\n",
    "import sqlite3"
   ]
  },
  {
   "cell_type": "markdown",
   "metadata": {},
   "source": [
    "# Loading Data"
   ]
  },
  {
   "cell_type": "code",
   "execution_count": 3,
   "metadata": {},
   "outputs": [],
   "source": [
    "conn = sqlite3.connect(\"data/chinook.db\")"
   ]
  },
  {
   "cell_type": "code",
   "execution_count": 4,
   "metadata": {
    "scrolled": false
   },
   "outputs": [
    {
     "data": {
      "text/html": [
       "<div>\n",
       "<style scoped>\n",
       "    .dataframe tbody tr th:only-of-type {\n",
       "        vertical-align: middle;\n",
       "    }\n",
       "\n",
       "    .dataframe tbody tr th {\n",
       "        vertical-align: top;\n",
       "    }\n",
       "\n",
       "    .dataframe thead th {\n",
       "        text-align: right;\n",
       "    }\n",
       "</style>\n",
       "<table border=\"1\" class=\"dataframe\">\n",
       "  <thead>\n",
       "    <tr style=\"text-align: right;\">\n",
       "      <th></th>\n",
       "      <th>InvoiceId</th>\n",
       "      <th>CustomerId</th>\n",
       "      <th>InvoiceDate</th>\n",
       "      <th>BillingAddress</th>\n",
       "      <th>BillingCity</th>\n",
       "      <th>BillingState</th>\n",
       "      <th>BillingCountry</th>\n",
       "      <th>BillingPostalCode</th>\n",
       "      <th>Total</th>\n",
       "    </tr>\n",
       "  </thead>\n",
       "  <tbody>\n",
       "    <tr>\n",
       "      <th>0</th>\n",
       "      <td>1</td>\n",
       "      <td>2</td>\n",
       "      <td>2009-01-01 00:00:00</td>\n",
       "      <td>Theodor-Heuss-Straße 34</td>\n",
       "      <td>Stuttgart</td>\n",
       "      <td>None</td>\n",
       "      <td>Germany</td>\n",
       "      <td>70174</td>\n",
       "      <td>1.98</td>\n",
       "    </tr>\n",
       "    <tr>\n",
       "      <th>1</th>\n",
       "      <td>2</td>\n",
       "      <td>4</td>\n",
       "      <td>2009-01-02 00:00:00</td>\n",
       "      <td>Ullevålsveien 14</td>\n",
       "      <td>Oslo</td>\n",
       "      <td>None</td>\n",
       "      <td>Norway</td>\n",
       "      <td>0171</td>\n",
       "      <td>3.96</td>\n",
       "    </tr>\n",
       "    <tr>\n",
       "      <th>2</th>\n",
       "      <td>3</td>\n",
       "      <td>8</td>\n",
       "      <td>2009-01-03 00:00:00</td>\n",
       "      <td>Grétrystraat 63</td>\n",
       "      <td>Brussels</td>\n",
       "      <td>None</td>\n",
       "      <td>Belgium</td>\n",
       "      <td>1000</td>\n",
       "      <td>5.94</td>\n",
       "    </tr>\n",
       "    <tr>\n",
       "      <th>3</th>\n",
       "      <td>4</td>\n",
       "      <td>14</td>\n",
       "      <td>2009-01-06 00:00:00</td>\n",
       "      <td>8210 111 ST NW</td>\n",
       "      <td>Edmonton</td>\n",
       "      <td>AB</td>\n",
       "      <td>Canada</td>\n",
       "      <td>T6G 2C7</td>\n",
       "      <td>8.91</td>\n",
       "    </tr>\n",
       "  </tbody>\n",
       "</table>\n",
       "</div>"
      ],
      "text/plain": [
       "   InvoiceId  CustomerId          InvoiceDate           BillingAddress  \\\n",
       "0          1           2  2009-01-01 00:00:00  Theodor-Heuss-Straße 34   \n",
       "1          2           4  2009-01-02 00:00:00         Ullevålsveien 14   \n",
       "2          3           8  2009-01-03 00:00:00          Grétrystraat 63   \n",
       "3          4          14  2009-01-06 00:00:00           8210 111 ST NW   \n",
       "\n",
       "  BillingCity BillingState BillingCountry BillingPostalCode  Total  \n",
       "0   Stuttgart         None        Germany             70174   1.98  \n",
       "1        Oslo         None         Norway              0171   3.96  \n",
       "2    Brussels         None        Belgium              1000   5.94  \n",
       "3    Edmonton           AB         Canada           T6G 2C7   8.91  "
      ]
     },
     "execution_count": 4,
     "metadata": {},
     "output_type": "execute_result"
    }
   ],
   "source": [
    "query = \"SELECT * FROM invoices\" # select (columns) from (table)\n",
    "\n",
    "a = pd.read_sql_query(query, conn)\n",
    "a.head(4)"
   ]
  },
  {
   "cell_type": "code",
   "execution_count": 5,
   "metadata": {},
   "outputs": [
    {
     "data": {
      "text/plain": [
       "(412,)"
      ]
     },
     "execution_count": 5,
     "metadata": {},
     "output_type": "execute_result"
    }
   ],
   "source": [
    "a['InvoiceId'].shape"
   ]
  },
  {
   "cell_type": "markdown",
   "metadata": {},
   "source": [
    "# Join Data"
   ]
  },
  {
   "cell_type": "markdown",
   "metadata": {},
   "source": [
    "**Do at least 1 of the following operations to get 2**\n",
    "- [x] Take data from joining minimum of 4 table "
   ]
  },
  {
   "cell_type": "code",
   "execution_count": 6,
   "metadata": {
    "scrolled": true
   },
   "outputs": [
    {
     "data": {
      "text/html": [
       "<div>\n",
       "<style scoped>\n",
       "    .dataframe tbody tr th:only-of-type {\n",
       "        vertical-align: middle;\n",
       "    }\n",
       "\n",
       "    .dataframe tbody tr th {\n",
       "        vertical-align: top;\n",
       "    }\n",
       "\n",
       "    .dataframe thead th {\n",
       "        text-align: right;\n",
       "    }\n",
       "</style>\n",
       "<table border=\"1\" class=\"dataframe\">\n",
       "  <thead>\n",
       "    <tr style=\"text-align: right;\">\n",
       "      <th></th>\n",
       "      <th>InvoiceId</th>\n",
       "      <th>Country</th>\n",
       "      <th>BillingCity</th>\n",
       "      <th>Tracks</th>\n",
       "      <th>Milliseconds</th>\n",
       "      <th>Bytes</th>\n",
       "      <th>Genre</th>\n",
       "      <th>InvoiceDate</th>\n",
       "      <th>Total</th>\n",
       "    </tr>\n",
       "  </thead>\n",
       "  <tbody>\n",
       "    <tr>\n",
       "      <th>0</th>\n",
       "      <td>98</td>\n",
       "      <td>Brazil</td>\n",
       "      <td>São José dos Campos</td>\n",
       "      <td>União Da Ilha</td>\n",
       "      <td>330945</td>\n",
       "      <td>11100945</td>\n",
       "      <td>Latin</td>\n",
       "      <td>2010-03-11 00:00:00</td>\n",
       "      <td>3.98</td>\n",
       "    </tr>\n",
       "    <tr>\n",
       "      <th>1</th>\n",
       "      <td>121</td>\n",
       "      <td>Brazil</td>\n",
       "      <td>São José dos Campos</td>\n",
       "      <td>Born To Move</td>\n",
       "      <td>342804</td>\n",
       "      <td>11260814</td>\n",
       "      <td>Rock</td>\n",
       "      <td>2010-06-13 00:00:00</td>\n",
       "      <td>3.96</td>\n",
       "    </tr>\n",
       "    <tr>\n",
       "      <th>2</th>\n",
       "      <td>143</td>\n",
       "      <td>Brazil</td>\n",
       "      <td>São José dos Campos</td>\n",
       "      <td>Esquinas</td>\n",
       "      <td>280999</td>\n",
       "      <td>9096726</td>\n",
       "      <td>Latin</td>\n",
       "      <td>2010-09-15 00:00:00</td>\n",
       "      <td>5.94</td>\n",
       "    </tr>\n",
       "    <tr>\n",
       "      <th>3</th>\n",
       "      <td>195</td>\n",
       "      <td>Brazil</td>\n",
       "      <td>São José dos Campos</td>\n",
       "      <td>Don't Damn Me</td>\n",
       "      <td>318901</td>\n",
       "      <td>5385886</td>\n",
       "      <td>Rock</td>\n",
       "      <td>2011-05-06 00:00:00</td>\n",
       "      <td>0.99</td>\n",
       "    </tr>\n",
       "    <tr>\n",
       "      <th>4</th>\n",
       "      <td>316</td>\n",
       "      <td>Brazil</td>\n",
       "      <td>São José dos Campos</td>\n",
       "      <td>All Within My Hands</td>\n",
       "      <td>527986</td>\n",
       "      <td>17162741</td>\n",
       "      <td>Metal</td>\n",
       "      <td>2012-10-27 00:00:00</td>\n",
       "      <td>1.98</td>\n",
       "    </tr>\n",
       "  </tbody>\n",
       "</table>\n",
       "</div>"
      ],
      "text/plain": [
       "   InvoiceId Country          BillingCity               Tracks  Milliseconds  \\\n",
       "0         98  Brazil  São José dos Campos        União Da Ilha        330945   \n",
       "1        121  Brazil  São José dos Campos         Born To Move        342804   \n",
       "2        143  Brazil  São José dos Campos             Esquinas        280999   \n",
       "3        195  Brazil  São José dos Campos        Don't Damn Me        318901   \n",
       "4        316  Brazil  São José dos Campos  All Within My Hands        527986   \n",
       "\n",
       "      Bytes  Genre          InvoiceDate  Total  \n",
       "0  11100945  Latin  2010-03-11 00:00:00   3.98  \n",
       "1  11260814   Rock  2010-06-13 00:00:00   3.96  \n",
       "2   9096726  Latin  2010-09-15 00:00:00   5.94  \n",
       "3   5385886   Rock  2011-05-06 00:00:00   0.99  \n",
       "4  17162741  Metal  2012-10-27 00:00:00   1.98  "
      ]
     },
     "execution_count": 6,
     "metadata": {},
     "output_type": "execute_result"
    }
   ],
   "source": [
    "# Taking data from joining 5 tables\n",
    "query = \"\"\"\n",
    "SELECT i.InvoiceId,Country,BillingCity,tracks.Name as Tracks,Milliseconds,Bytes,genres.Name as Genre,InvoiceDate,Total\n",
    "FROM customers\n",
    "LEFT JOIN invoices as i ON i.CustomerId = customers.CustomerId\n",
    "LEFT JOIN invoice_items as ii ON ii.InvoiceLineId = i.InvoiceId\n",
    "LEFT JOIN tracks ON tracks.trackid = ii.trackid\n",
    "LEFT JOIN genres ON genres.genreid = tracks.genreid\n",
    "\"\"\"\n",
    "#LEFT JOIN genres ON genres.genreid = tracks.genreid\n",
    "data = pd.read_sql_query(query, conn)\n",
    "data.head(5)"
   ]
  },
  {
   "cell_type": "code",
   "execution_count": 9,
   "metadata": {},
   "outputs": [
    {
     "name": "stdout",
     "output_type": "stream",
     "text": [
      "0      Brazil\n",
      "1      Brazil\n",
      "2      Brazil\n",
      "3      Brazil\n",
      "4      Brazil\n",
      "        ...  \n",
      "407     India\n",
      "408     India\n",
      "409     India\n",
      "410     India\n",
      "411     India\n",
      "Name: Country, Length: 412, dtype: category\n",
      "Categories (24, object): ['Argentina', 'Australia', 'Austria', 'Belgium', ..., 'Spain', 'Sweden', 'USA', 'United Kingdom']\n"
     ]
    }
   ],
   "source": [
    "print(data['Country'].astype('category'))"
   ]
  },
  {
   "cell_type": "code",
   "execution_count": 7,
   "metadata": {},
   "outputs": [
    {
     "data": {
      "text/plain": [
       "0      Latin\n",
       "1       Rock\n",
       "2      Latin\n",
       "3       Rock\n",
       "4      Metal\n",
       "       ...  \n",
       "407    Latin\n",
       "408     Rock\n",
       "409     Rock\n",
       "410    Metal\n",
       "411    Latin\n",
       "Name: Genre, Length: 412, dtype: category\n",
       "Categories (17, object): ['Alternative & Punk', 'Blues', 'Bossa Nova', 'Easy Listening', ..., 'Rock', 'Rock And Roll', 'Soundtrack', 'World']"
      ]
     },
     "execution_count": 7,
     "metadata": {},
     "output_type": "execute_result"
    }
   ],
   "source": [
    "data['Genre'].astype('category')"
   ]
  },
  {
   "cell_type": "markdown",
   "metadata": {},
   "source": [
    "# Data Preprocessing"
   ]
  },
  {
   "cell_type": "markdown",
   "metadata": {},
   "source": [
    "**Do at least at least 3 of the following operations to get 3**\n",
    "- [x] Datetime operation \n",
    "- [x] Categorical operation \n",
    "- [x] Frequencies analysis \n",
    "- [x] Missing Value and Duplicates operation"
   ]
  },
  {
   "cell_type": "markdown",
   "metadata": {},
   "source": [
    "**Do at least 2 of the following operations to get 3**\n",
    "- [X] stack/unstack\n",
    "- [x] melt \n",
    "- [x] groupby "
   ]
  },
  {
   "cell_type": "markdown",
   "metadata": {},
   "source": [
    "## Menghitung rata-rata umur *employee* per jabatan"
   ]
  },
  {
   "cell_type": "code",
   "execution_count": 8,
   "metadata": {
    "scrolled": true
   },
   "outputs": [
    {
     "data": {
      "text/html": [
       "<div>\n",
       "<style scoped>\n",
       "    .dataframe tbody tr th:only-of-type {\n",
       "        vertical-align: middle;\n",
       "    }\n",
       "\n",
       "    .dataframe tbody tr th {\n",
       "        vertical-align: top;\n",
       "    }\n",
       "\n",
       "    .dataframe thead th {\n",
       "        text-align: right;\n",
       "    }\n",
       "</style>\n",
       "<table border=\"1\" class=\"dataframe\">\n",
       "  <thead>\n",
       "    <tr style=\"text-align: right;\">\n",
       "      <th></th>\n",
       "      <th>EmployeeId</th>\n",
       "      <th>BirthDate</th>\n",
       "      <th>Title</th>\n",
       "    </tr>\n",
       "  </thead>\n",
       "  <tbody>\n",
       "    <tr>\n",
       "      <th>0</th>\n",
       "      <td>1</td>\n",
       "      <td>1962-02-18 00:00:00</td>\n",
       "      <td>General Manager</td>\n",
       "    </tr>\n",
       "    <tr>\n",
       "      <th>1</th>\n",
       "      <td>2</td>\n",
       "      <td>1958-12-08 00:00:00</td>\n",
       "      <td>Sales Manager</td>\n",
       "    </tr>\n",
       "    <tr>\n",
       "      <th>2</th>\n",
       "      <td>3</td>\n",
       "      <td>1973-08-29 00:00:00</td>\n",
       "      <td>Sales Support Agent</td>\n",
       "    </tr>\n",
       "    <tr>\n",
       "      <th>3</th>\n",
       "      <td>4</td>\n",
       "      <td>1947-09-19 00:00:00</td>\n",
       "      <td>Sales Support Agent</td>\n",
       "    </tr>\n",
       "    <tr>\n",
       "      <th>4</th>\n",
       "      <td>5</td>\n",
       "      <td>1965-03-03 00:00:00</td>\n",
       "      <td>Sales Support Agent</td>\n",
       "    </tr>\n",
       "  </tbody>\n",
       "</table>\n",
       "</div>"
      ],
      "text/plain": [
       "   EmployeeId            BirthDate                Title\n",
       "0           1  1962-02-18 00:00:00      General Manager\n",
       "1           2  1958-12-08 00:00:00        Sales Manager\n",
       "2           3  1973-08-29 00:00:00  Sales Support Agent\n",
       "3           4  1947-09-19 00:00:00  Sales Support Agent\n",
       "4           5  1965-03-03 00:00:00  Sales Support Agent"
      ]
     },
     "execution_count": 8,
     "metadata": {},
     "output_type": "execute_result"
    }
   ],
   "source": [
    "query = \"SELECT EmployeeId,BirthDate,Title FROM employees\" # select (columns) from (table)\n",
    "employee = pd.read_sql_query(query, conn) \n",
    "employee.head()"
   ]
  },
  {
   "cell_type": "code",
   "execution_count": 9,
   "metadata": {
    "scrolled": false
   },
   "outputs": [
    {
     "data": {
      "text/html": [
       "<div>\n",
       "<style scoped>\n",
       "    .dataframe tbody tr th:only-of-type {\n",
       "        vertical-align: middle;\n",
       "    }\n",
       "\n",
       "    .dataframe tbody tr th {\n",
       "        vertical-align: top;\n",
       "    }\n",
       "\n",
       "    .dataframe thead th {\n",
       "        text-align: right;\n",
       "    }\n",
       "</style>\n",
       "<table border=\"1\" class=\"dataframe\">\n",
       "  <thead>\n",
       "    <tr style=\"text-align: right;\">\n",
       "      <th></th>\n",
       "      <th>EmployeeId</th>\n",
       "      <th>BirthDate</th>\n",
       "      <th>Title</th>\n",
       "      <th>Age</th>\n",
       "    </tr>\n",
       "  </thead>\n",
       "  <tbody>\n",
       "    <tr>\n",
       "      <th>0</th>\n",
       "      <td>1</td>\n",
       "      <td>1962-02-18</td>\n",
       "      <td>General Manager</td>\n",
       "      <td>58</td>\n",
       "    </tr>\n",
       "    <tr>\n",
       "      <th>1</th>\n",
       "      <td>2</td>\n",
       "      <td>1958-12-08</td>\n",
       "      <td>Sales Manager</td>\n",
       "      <td>62</td>\n",
       "    </tr>\n",
       "    <tr>\n",
       "      <th>2</th>\n",
       "      <td>3</td>\n",
       "      <td>1973-08-29</td>\n",
       "      <td>Sales Support Agent</td>\n",
       "      <td>47</td>\n",
       "    </tr>\n",
       "    <tr>\n",
       "      <th>3</th>\n",
       "      <td>4</td>\n",
       "      <td>1947-09-19</td>\n",
       "      <td>Sales Support Agent</td>\n",
       "      <td>73</td>\n",
       "    </tr>\n",
       "    <tr>\n",
       "      <th>4</th>\n",
       "      <td>5</td>\n",
       "      <td>1965-03-03</td>\n",
       "      <td>Sales Support Agent</td>\n",
       "      <td>55</td>\n",
       "    </tr>\n",
       "  </tbody>\n",
       "</table>\n",
       "</div>"
      ],
      "text/plain": [
       "   EmployeeId  BirthDate                Title  Age\n",
       "0           1 1962-02-18      General Manager   58\n",
       "1           2 1958-12-08        Sales Manager   62\n",
       "2           3 1973-08-29  Sales Support Agent   47\n",
       "3           4 1947-09-19  Sales Support Agent   73\n",
       "4           5 1965-03-03  Sales Support Agent   55"
      ]
     },
     "execution_count": 9,
     "metadata": {},
     "output_type": "execute_result"
    }
   ],
   "source": [
    "employee['BirthDate'] = employee['BirthDate'].astype('datetime64')\n",
    "this_year=2020\n",
    "born_year = employee['BirthDate'].dt.year\n",
    "employee['Age'] = this_year - born_year\n",
    "employee.head()"
   ]
  },
  {
   "cell_type": "markdown",
   "metadata": {},
   "source": [
    "### Menghitung rata-rata umur pegawai pada setiap bidang"
   ]
  },
  {
   "cell_type": "code",
   "execution_count": 10,
   "metadata": {},
   "outputs": [
    {
     "data": {
      "text/html": [
       "<div>\n",
       "<style scoped>\n",
       "    .dataframe tbody tr th:only-of-type {\n",
       "        vertical-align: middle;\n",
       "    }\n",
       "\n",
       "    .dataframe tbody tr th {\n",
       "        vertical-align: top;\n",
       "    }\n",
       "\n",
       "    .dataframe thead th {\n",
       "        text-align: right;\n",
       "    }\n",
       "</style>\n",
       "<table border=\"1\" class=\"dataframe\">\n",
       "  <thead>\n",
       "    <tr style=\"text-align: right;\">\n",
       "      <th></th>\n",
       "      <th>EmployeeId</th>\n",
       "      <th>Age</th>\n",
       "    </tr>\n",
       "    <tr>\n",
       "      <th>Title</th>\n",
       "      <th></th>\n",
       "      <th></th>\n",
       "    </tr>\n",
       "  </thead>\n",
       "  <tbody>\n",
       "    <tr>\n",
       "      <th>General Manager</th>\n",
       "      <td>1.0</td>\n",
       "      <td>58.000000</td>\n",
       "    </tr>\n",
       "    <tr>\n",
       "      <th>IT Manager</th>\n",
       "      <td>6.0</td>\n",
       "      <td>47.000000</td>\n",
       "    </tr>\n",
       "    <tr>\n",
       "      <th>IT Staff</th>\n",
       "      <td>7.5</td>\n",
       "      <td>51.000000</td>\n",
       "    </tr>\n",
       "    <tr>\n",
       "      <th>Sales Manager</th>\n",
       "      <td>2.0</td>\n",
       "      <td>62.000000</td>\n",
       "    </tr>\n",
       "    <tr>\n",
       "      <th>Sales Support Agent</th>\n",
       "      <td>4.0</td>\n",
       "      <td>58.333333</td>\n",
       "    </tr>\n",
       "  </tbody>\n",
       "</table>\n",
       "</div>"
      ],
      "text/plain": [
       "                     EmployeeId        Age\n",
       "Title                                     \n",
       "General Manager             1.0  58.000000\n",
       "IT Manager                  6.0  47.000000\n",
       "IT Staff                    7.5  51.000000\n",
       "Sales Manager               2.0  62.000000\n",
       "Sales Support Agent         4.0  58.333333"
      ]
     },
     "execution_count": 10,
     "metadata": {},
     "output_type": "execute_result"
    }
   ],
   "source": [
    "employee_age_mean = employee.groupby(['Title']).mean()\n",
    "employee_age_mean.head()"
   ]
  },
  {
   "cell_type": "markdown",
   "metadata": {},
   "source": [
    "## Preprocessing dataframe DATA"
   ]
  },
  {
   "cell_type": "code",
   "execution_count": 11,
   "metadata": {
    "scrolled": true
   },
   "outputs": [
    {
     "data": {
      "text/plain": [
       "InvoiceId         int64\n",
       "Country          object\n",
       "BillingCity      object\n",
       "Tracks           object\n",
       "Milliseconds      int64\n",
       "Bytes             int64\n",
       "Genre            object\n",
       "InvoiceDate      object\n",
       "Total           float64\n",
       "dtype: object"
      ]
     },
     "execution_count": 11,
     "metadata": {},
     "output_type": "execute_result"
    }
   ],
   "source": [
    "data.dtypes"
   ]
  },
  {
   "cell_type": "code",
   "execution_count": 12,
   "metadata": {
    "scrolled": true
   },
   "outputs": [
    {
     "data": {
      "text/plain": [
       "InvoiceId                int64\n",
       "Country               category\n",
       "BillingCity           category\n",
       "Tracks                  object\n",
       "Milliseconds             int64\n",
       "Bytes                    int64\n",
       "Genre                 category\n",
       "InvoiceDate     datetime64[ns]\n",
       "Total                  float64\n",
       "dtype: object"
      ]
     },
     "execution_count": 12,
     "metadata": {},
     "output_type": "execute_result"
    }
   ],
   "source": [
    "# Mengubah tipe data\n",
    "\n",
    "data['Country']=data['Country'].astype('category')\n",
    "data['BillingCity']=data['BillingCity'].astype('category')\n",
    "data['Genre']=data['Genre'].astype('category')\n",
    "data['InvoiceDate']=data['InvoiceDate'].astype('datetime64')\n",
    "data.dtypes"
   ]
  },
  {
   "cell_type": "markdown",
   "metadata": {},
   "source": [
    "### Menghitung data banyaknya transaksi berdasarkan negara dan genre"
   ]
  },
  {
   "cell_type": "code",
   "execution_count": 13,
   "metadata": {
    "scrolled": true
   },
   "outputs": [
    {
     "data": {
      "text/html": [
       "<div>\n",
       "<style scoped>\n",
       "    .dataframe tbody tr th:only-of-type {\n",
       "        vertical-align: middle;\n",
       "    }\n",
       "\n",
       "    .dataframe tbody tr th {\n",
       "        vertical-align: top;\n",
       "    }\n",
       "\n",
       "    .dataframe thead th {\n",
       "        text-align: right;\n",
       "    }\n",
       "</style>\n",
       "<table border=\"1\" class=\"dataframe\">\n",
       "  <thead>\n",
       "    <tr style=\"text-align: right;\">\n",
       "      <th></th>\n",
       "      <th>InvoiceId</th>\n",
       "      <th>Country</th>\n",
       "      <th>BillingCity</th>\n",
       "      <th>Tracks</th>\n",
       "      <th>Milliseconds</th>\n",
       "      <th>Bytes</th>\n",
       "      <th>Genre</th>\n",
       "      <th>InvoiceDate</th>\n",
       "      <th>Total</th>\n",
       "    </tr>\n",
       "  </thead>\n",
       "  <tbody>\n",
       "    <tr>\n",
       "      <th>0</th>\n",
       "      <td>98</td>\n",
       "      <td>Brazil</td>\n",
       "      <td>São José dos Campos</td>\n",
       "      <td>União Da Ilha</td>\n",
       "      <td>330945</td>\n",
       "      <td>11100945</td>\n",
       "      <td>Latin</td>\n",
       "      <td>2010-03-11</td>\n",
       "      <td>3.98</td>\n",
       "    </tr>\n",
       "    <tr>\n",
       "      <th>1</th>\n",
       "      <td>121</td>\n",
       "      <td>Brazil</td>\n",
       "      <td>São José dos Campos</td>\n",
       "      <td>Born To Move</td>\n",
       "      <td>342804</td>\n",
       "      <td>11260814</td>\n",
       "      <td>Rock</td>\n",
       "      <td>2010-06-13</td>\n",
       "      <td>3.96</td>\n",
       "    </tr>\n",
       "    <tr>\n",
       "      <th>2</th>\n",
       "      <td>143</td>\n",
       "      <td>Brazil</td>\n",
       "      <td>São José dos Campos</td>\n",
       "      <td>Esquinas</td>\n",
       "      <td>280999</td>\n",
       "      <td>9096726</td>\n",
       "      <td>Latin</td>\n",
       "      <td>2010-09-15</td>\n",
       "      <td>5.94</td>\n",
       "    </tr>\n",
       "    <tr>\n",
       "      <th>3</th>\n",
       "      <td>195</td>\n",
       "      <td>Brazil</td>\n",
       "      <td>São José dos Campos</td>\n",
       "      <td>Don't Damn Me</td>\n",
       "      <td>318901</td>\n",
       "      <td>5385886</td>\n",
       "      <td>Rock</td>\n",
       "      <td>2011-05-06</td>\n",
       "      <td>0.99</td>\n",
       "    </tr>\n",
       "    <tr>\n",
       "      <th>4</th>\n",
       "      <td>316</td>\n",
       "      <td>Brazil</td>\n",
       "      <td>São José dos Campos</td>\n",
       "      <td>All Within My Hands</td>\n",
       "      <td>527986</td>\n",
       "      <td>17162741</td>\n",
       "      <td>Metal</td>\n",
       "      <td>2012-10-27</td>\n",
       "      <td>1.98</td>\n",
       "    </tr>\n",
       "  </tbody>\n",
       "</table>\n",
       "</div>"
      ],
      "text/plain": [
       "   InvoiceId Country          BillingCity               Tracks  Milliseconds  \\\n",
       "0         98  Brazil  São José dos Campos        União Da Ilha        330945   \n",
       "1        121  Brazil  São José dos Campos         Born To Move        342804   \n",
       "2        143  Brazil  São José dos Campos             Esquinas        280999   \n",
       "3        195  Brazil  São José dos Campos        Don't Damn Me        318901   \n",
       "4        316  Brazil  São José dos Campos  All Within My Hands        527986   \n",
       "\n",
       "      Bytes  Genre InvoiceDate  Total  \n",
       "0  11100945  Latin  2010-03-11   3.98  \n",
       "1  11260814   Rock  2010-06-13   3.96  \n",
       "2   9096726  Latin  2010-09-15   5.94  \n",
       "3   5385886   Rock  2011-05-06   0.99  \n",
       "4  17162741  Metal  2012-10-27   1.98  "
      ]
     },
     "execution_count": 13,
     "metadata": {},
     "output_type": "execute_result"
    }
   ],
   "source": [
    "#data['Year'] = data['InvoiceDate'].dt.year\n",
    "#data.head\n",
    "data.head()"
   ]
  },
  {
   "cell_type": "code",
   "execution_count": 15,
   "metadata": {
    "scrolled": false
   },
   "outputs": [
    {
     "data": {
      "text/html": [
       "<div>\n",
       "<style scoped>\n",
       "    .dataframe tbody tr th:only-of-type {\n",
       "        vertical-align: middle;\n",
       "    }\n",
       "\n",
       "    .dataframe tbody tr th {\n",
       "        vertical-align: top;\n",
       "    }\n",
       "\n",
       "    .dataframe thead th {\n",
       "        text-align: right;\n",
       "    }\n",
       "</style>\n",
       "<table border=\"1\" class=\"dataframe\">\n",
       "  <thead>\n",
       "    <tr style=\"text-align: right;\">\n",
       "      <th></th>\n",
       "      <th></th>\n",
       "      <th>Milliseconds</th>\n",
       "      <th>Bytes</th>\n",
       "      <th>Total</th>\n",
       "    </tr>\n",
       "    <tr>\n",
       "      <th>Country</th>\n",
       "      <th>Genre</th>\n",
       "      <th></th>\n",
       "      <th></th>\n",
       "      <th></th>\n",
       "    </tr>\n",
       "  </thead>\n",
       "  <tbody>\n",
       "    <tr>\n",
       "      <th rowspan=\"5\" valign=\"top\">Argentina</th>\n",
       "      <th>Alternative &amp; Punk</th>\n",
       "      <td>202527.0</td>\n",
       "      <td>6587802.0</td>\n",
       "      <td>5.94</td>\n",
       "    </tr>\n",
       "    <tr>\n",
       "      <th>Blues</th>\n",
       "      <td>NaN</td>\n",
       "      <td>NaN</td>\n",
       "      <td>NaN</td>\n",
       "    </tr>\n",
       "    <tr>\n",
       "      <th>Bossa Nova</th>\n",
       "      <td>NaN</td>\n",
       "      <td>NaN</td>\n",
       "      <td>NaN</td>\n",
       "    </tr>\n",
       "    <tr>\n",
       "      <th>Easy Listening</th>\n",
       "      <td>NaN</td>\n",
       "      <td>NaN</td>\n",
       "      <td>NaN</td>\n",
       "    </tr>\n",
       "    <tr>\n",
       "      <th>Electronica/Dance</th>\n",
       "      <td>NaN</td>\n",
       "      <td>NaN</td>\n",
       "      <td>NaN</td>\n",
       "    </tr>\n",
       "  </tbody>\n",
       "</table>\n",
       "</div>"
      ],
      "text/plain": [
       "                              Milliseconds      Bytes  Total\n",
       "Country   Genre                                             \n",
       "Argentina Alternative & Punk      202527.0  6587802.0   5.94\n",
       "          Blues                        NaN        NaN    NaN\n",
       "          Bossa Nova                   NaN        NaN    NaN\n",
       "          Easy Listening               NaN        NaN    NaN\n",
       "          Electronica/Dance            NaN        NaN    NaN"
      ]
     },
     "execution_count": 15,
     "metadata": {},
     "output_type": "execute_result"
    }
   ],
   "source": [
    "country = data.groupby(['Country','Genre']).sum().drop(['InvoiceId'], axis=1)\n",
    "country.head()"
   ]
  },
  {
   "cell_type": "code",
   "execution_count": 16,
   "metadata": {},
   "outputs": [
    {
     "name": "stdout",
     "output_type": "stream",
     "text": [
      "<class 'pandas.core.frame.DataFrame'>\n",
      "MultiIndex: 408 entries, ('Argentina', 'Alternative & Punk') to ('United Kingdom', 'World')\n",
      "Data columns (total 3 columns):\n",
      " #   Column        Non-Null Count  Dtype  \n",
      "---  ------        --------------  -----  \n",
      " 0   Milliseconds  129 non-null    float64\n",
      " 1   Bytes         129 non-null    float64\n",
      " 2   Total         129 non-null    float64\n",
      "dtypes: float64(3)\n",
      "memory usage: 13.3 KB\n"
     ]
    }
   ],
   "source": [
    "country.info()"
   ]
  },
  {
   "cell_type": "code",
   "execution_count": 17,
   "metadata": {},
   "outputs": [
    {
     "name": "stdout",
     "output_type": "stream",
     "text": [
      "<class 'pandas.core.frame.DataFrame'>\n",
      "MultiIndex: 408 entries, ('Argentina', 'Alternative & Punk') to ('United Kingdom', 'World')\n",
      "Data columns (total 3 columns):\n",
      " #   Column        Non-Null Count  Dtype  \n",
      "---  ------        --------------  -----  \n",
      " 0   Milliseconds  408 non-null    float64\n",
      " 1   Bytes         408 non-null    float64\n",
      " 2   Total         408 non-null    float64\n",
      "dtypes: float64(3)\n",
      "memory usage: 13.3 KB\n"
     ]
    }
   ],
   "source": [
    "country[['Milliseconds','Bytes','Total']] = country[['Milliseconds','Bytes','Total']].fillna(0)\n",
    "country.info()"
   ]
  },
  {
   "cell_type": "markdown",
   "metadata": {},
   "source": [
    "### Check Missing Value"
   ]
  },
  {
   "cell_type": "code",
   "execution_count": 22,
   "metadata": {
    "scrolled": true
   },
   "outputs": [
    {
     "data": {
      "text/plain": [
       "(408, 3)"
      ]
     },
     "execution_count": 22,
     "metadata": {},
     "output_type": "execute_result"
    }
   ],
   "source": [
    "country.shape"
   ]
  },
  {
   "cell_type": "code",
   "execution_count": 23,
   "metadata": {
    "scrolled": true
   },
   "outputs": [
    {
     "data": {
      "text/plain": [
       "Genre                           \n",
       "Alternative & Punk  Bytes           6587802.00\n",
       "                    Milliseconds     202527.00\n",
       "                    Total                 5.94\n",
       "Blues               Bytes                 0.00\n",
       "                    Milliseconds          0.00\n",
       "Name: Argentina, dtype: float64"
      ]
     },
     "execution_count": 23,
     "metadata": {},
     "output_type": "execute_result"
    }
   ],
   "source": [
    "#proses pengambilan data per tiap negara\n",
    "country_new=country.unstack(level=0).stack(level=0)\n",
    "country_new['Argentina'].head()"
   ]
  },
  {
   "cell_type": "markdown",
   "metadata": {},
   "source": []
  },
  {
   "cell_type": "markdown",
   "metadata": {},
   "source": [
    "### Menentukkan genre apa yang paling banyak didengar di berbagai negara"
   ]
  },
  {
   "cell_type": "code",
   "execution_count": 38,
   "metadata": {},
   "outputs": [
    {
     "data": {
      "text/html": [
       "<div>\n",
       "<style scoped>\n",
       "    .dataframe tbody tr th:only-of-type {\n",
       "        vertical-align: middle;\n",
       "    }\n",
       "\n",
       "    .dataframe tbody tr th {\n",
       "        vertical-align: top;\n",
       "    }\n",
       "\n",
       "    .dataframe thead th {\n",
       "        text-align: right;\n",
       "    }\n",
       "</style>\n",
       "<table border=\"1\" class=\"dataframe\">\n",
       "  <thead>\n",
       "    <tr style=\"text-align: right;\">\n",
       "      <th></th>\n",
       "      <th>InvoiceId</th>\n",
       "      <th>Country</th>\n",
       "      <th>BillingCity</th>\n",
       "      <th>Tracks</th>\n",
       "      <th>Milliseconds</th>\n",
       "      <th>Bytes</th>\n",
       "      <th>Genre</th>\n",
       "      <th>InvoiceDate</th>\n",
       "      <th>Total</th>\n",
       "    </tr>\n",
       "  </thead>\n",
       "  <tbody>\n",
       "    <tr>\n",
       "      <th>0</th>\n",
       "      <td>98</td>\n",
       "      <td>Brazil</td>\n",
       "      <td>São José dos Campos</td>\n",
       "      <td>União Da Ilha</td>\n",
       "      <td>330945</td>\n",
       "      <td>11100945</td>\n",
       "      <td>Latin</td>\n",
       "      <td>2010-03-11 00:00:00</td>\n",
       "      <td>3.98</td>\n",
       "    </tr>\n",
       "    <tr>\n",
       "      <th>1</th>\n",
       "      <td>121</td>\n",
       "      <td>Brazil</td>\n",
       "      <td>São José dos Campos</td>\n",
       "      <td>Born To Move</td>\n",
       "      <td>342804</td>\n",
       "      <td>11260814</td>\n",
       "      <td>Rock</td>\n",
       "      <td>2010-06-13 00:00:00</td>\n",
       "      <td>3.96</td>\n",
       "    </tr>\n",
       "    <tr>\n",
       "      <th>2</th>\n",
       "      <td>143</td>\n",
       "      <td>Brazil</td>\n",
       "      <td>São José dos Campos</td>\n",
       "      <td>Esquinas</td>\n",
       "      <td>280999</td>\n",
       "      <td>9096726</td>\n",
       "      <td>Latin</td>\n",
       "      <td>2010-09-15 00:00:00</td>\n",
       "      <td>5.94</td>\n",
       "    </tr>\n",
       "    <tr>\n",
       "      <th>3</th>\n",
       "      <td>195</td>\n",
       "      <td>Brazil</td>\n",
       "      <td>São José dos Campos</td>\n",
       "      <td>Don't Damn Me</td>\n",
       "      <td>318901</td>\n",
       "      <td>5385886</td>\n",
       "      <td>Rock</td>\n",
       "      <td>2011-05-06 00:00:00</td>\n",
       "      <td>0.99</td>\n",
       "    </tr>\n",
       "    <tr>\n",
       "      <th>4</th>\n",
       "      <td>316</td>\n",
       "      <td>Brazil</td>\n",
       "      <td>São José dos Campos</td>\n",
       "      <td>All Within My Hands</td>\n",
       "      <td>527986</td>\n",
       "      <td>17162741</td>\n",
       "      <td>Metal</td>\n",
       "      <td>2012-10-27 00:00:00</td>\n",
       "      <td>1.98</td>\n",
       "    </tr>\n",
       "  </tbody>\n",
       "</table>\n",
       "</div>"
      ],
      "text/plain": [
       "   InvoiceId Country          BillingCity               Tracks  Milliseconds  \\\n",
       "0         98  Brazil  São José dos Campos        União Da Ilha        330945   \n",
       "1        121  Brazil  São José dos Campos         Born To Move        342804   \n",
       "2        143  Brazil  São José dos Campos             Esquinas        280999   \n",
       "3        195  Brazil  São José dos Campos        Don't Damn Me        318901   \n",
       "4        316  Brazil  São José dos Campos  All Within My Hands        527986   \n",
       "\n",
       "      Bytes  Genre          InvoiceDate  Total  \n",
       "0  11100945  Latin  2010-03-11 00:00:00   3.98  \n",
       "1  11260814   Rock  2010-06-13 00:00:00   3.96  \n",
       "2   9096726  Latin  2010-09-15 00:00:00   5.94  \n",
       "3   5385886   Rock  2011-05-06 00:00:00   0.99  \n",
       "4  17162741  Metal  2012-10-27 00:00:00   1.98  "
      ]
     },
     "execution_count": 38,
     "metadata": {},
     "output_type": "execute_result"
    }
   ],
   "source": [
    "data.head()"
   ]
  },
  {
   "cell_type": "code",
   "execution_count": 55,
   "metadata": {},
   "outputs": [],
   "source": [
    "gen_in_country = pd.crosstab(\n",
    "    index = [data['Country'],data['Genre']],\n",
    "    columns = 'Jml Penggemar',\n",
    ").sort_values(by='Jml Penggemar', ascending=False)"
   ]
  },
  {
   "cell_type": "code",
   "execution_count": 56,
   "metadata": {},
   "outputs": [
    {
     "data": {
      "text/html": [
       "<div>\n",
       "<style scoped>\n",
       "    .dataframe tbody tr th:only-of-type {\n",
       "        vertical-align: middle;\n",
       "    }\n",
       "\n",
       "    .dataframe tbody tr th {\n",
       "        vertical-align: top;\n",
       "    }\n",
       "\n",
       "    .dataframe thead th {\n",
       "        text-align: right;\n",
       "    }\n",
       "</style>\n",
       "<table border=\"1\" class=\"dataframe\">\n",
       "  <thead>\n",
       "    <tr style=\"text-align: right;\">\n",
       "      <th></th>\n",
       "      <th>col_0</th>\n",
       "      <th>Jml Penggemar</th>\n",
       "    </tr>\n",
       "    <tr>\n",
       "      <th>Country</th>\n",
       "      <th>Genre</th>\n",
       "      <th></th>\n",
       "    </tr>\n",
       "  </thead>\n",
       "  <tbody>\n",
       "    <tr>\n",
       "      <th>USA</th>\n",
       "      <th>Rock</th>\n",
       "      <td>44</td>\n",
       "    </tr>\n",
       "    <tr>\n",
       "      <th>Canada</th>\n",
       "      <th>Rock</th>\n",
       "      <td>21</td>\n",
       "    </tr>\n",
       "    <tr>\n",
       "      <th>USA</th>\n",
       "      <th>Latin</th>\n",
       "      <td>16</td>\n",
       "    </tr>\n",
       "    <tr>\n",
       "      <th>Germany</th>\n",
       "      <th>Rock</th>\n",
       "      <td>15</td>\n",
       "    </tr>\n",
       "    <tr>\n",
       "      <th>Canada</th>\n",
       "      <th>Latin</th>\n",
       "      <td>13</td>\n",
       "    </tr>\n",
       "    <tr>\n",
       "      <th>...</th>\n",
       "      <th>...</th>\n",
       "      <td>...</td>\n",
       "    </tr>\n",
       "    <tr>\n",
       "      <th>Denmark</th>\n",
       "      <th>Reggae</th>\n",
       "      <td>1</td>\n",
       "    </tr>\n",
       "    <tr>\n",
       "      <th rowspan=\"3\" valign=\"top\">Czech Republic</th>\n",
       "      <th>R&amp;B/Soul</th>\n",
       "      <td>1</td>\n",
       "    </tr>\n",
       "    <tr>\n",
       "      <th>Jazz</th>\n",
       "      <td>1</td>\n",
       "    </tr>\n",
       "    <tr>\n",
       "      <th>Easy Listening</th>\n",
       "      <td>1</td>\n",
       "    </tr>\n",
       "    <tr>\n",
       "      <th>France</th>\n",
       "      <th>Reggae</th>\n",
       "      <td>1</td>\n",
       "    </tr>\n",
       "  </tbody>\n",
       "</table>\n",
       "<p>129 rows × 1 columns</p>\n",
       "</div>"
      ],
      "text/plain": [
       "col_0                          Jml Penggemar\n",
       "Country        Genre                        \n",
       "USA            Rock                       44\n",
       "Canada         Rock                       21\n",
       "USA            Latin                      16\n",
       "Germany        Rock                       15\n",
       "Canada         Latin                      13\n",
       "...                                      ...\n",
       "Denmark        Reggae                      1\n",
       "Czech Republic R&B/Soul                    1\n",
       "               Jazz                        1\n",
       "               Easy Listening              1\n",
       "France         Reggae                      1\n",
       "\n",
       "[129 rows x 1 columns]"
      ]
     },
     "execution_count": 56,
     "metadata": {},
     "output_type": "execute_result"
    }
   ],
   "source": [
    "gen_in_country"
   ]
  },
  {
   "cell_type": "code",
   "execution_count": 47,
   "metadata": {},
   "outputs": [
    {
     "name": "stdout",
     "output_type": "stream",
     "text": [
      "<class 'pandas.core.frame.DataFrame'>\n",
      "MultiIndex: 129 entries, ('Argentina', 'Alternative & Punk') to ('United Kingdom', 'Rock')\n",
      "Data columns (total 1 columns):\n",
      " #   Column         Non-Null Count  Dtype\n",
      "---  ------         --------------  -----\n",
      " 0   Jml Penggemar  129 non-null    int64\n",
      "dtypes: int64(1)\n",
      "memory usage: 1.7+ KB\n"
     ]
    }
   ],
   "source": [
    "gen_in_country.info()"
   ]
  },
  {
   "cell_type": "code",
   "execution_count": null,
   "metadata": {},
   "outputs": [],
   "source": []
  }
 ],
 "metadata": {
  "kernelspec": {
   "display_name": "capstone-api",
   "language": "python",
   "name": "capstone-api"
  },
  "language_info": {
   "codemirror_mode": {
    "name": "ipython",
    "version": 3
   },
   "file_extension": ".py",
   "mimetype": "text/x-python",
   "name": "python",
   "nbconvert_exporter": "python",
   "pygments_lexer": "ipython3",
   "version": "3.8.5"
  }
 },
 "nbformat": 4,
 "nbformat_minor": 4
}
